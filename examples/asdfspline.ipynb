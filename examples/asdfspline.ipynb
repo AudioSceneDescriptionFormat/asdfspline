{
 "cells": [
  {
   "cell_type": "markdown",
   "metadata": {},
   "source": [
    "# ASDF Splines\n",
    "\n",
    "Installation of the Python module: [python/README.rst](../python/README.rst)"
   ]
  },
  {
   "cell_type": "code",
   "execution_count": null,
   "metadata": {},
   "outputs": [],
   "source": [
    "%matplotlib\n",
    "import matplotlib.pyplot as plt\n",
    "import numpy as np"
   ]
  },
  {
   "cell_type": "code",
   "execution_count": null,
   "metadata": {},
   "outputs": [],
   "source": [
    "from asdfspline import AsdfSpline"
   ]
  },
  {
   "cell_type": "code",
   "execution_count": null,
   "metadata": {},
   "outputs": [],
   "source": [
    "def set_axes_equal(ax):\n",
    "    # https://stackoverflow.com/a/50664367/\n",
    "    limits = np.array([\n",
    "        ax.get_xlim3d(),\n",
    "        ax.get_ylim3d(),\n",
    "        ax.get_zlim3d(),\n",
    "    ])\n",
    "\n",
    "    origin = np.mean(limits, axis=1)\n",
    "    radius = 0.5 * np.max(np.abs(limits[:, 1] - limits[:, 0]))\n",
    "    ax.set_xlim3d([origin[0] - radius, origin[0] + radius])\n",
    "    ax.set_ylim3d([origin[1] - radius, origin[1] + radius])\n",
    "    ax.set_zlim3d([origin[2] - radius, origin[2] + radius])"
   ]
  },
  {
   "cell_type": "code",
   "execution_count": null,
   "metadata": {},
   "outputs": [],
   "source": [
    "def plot_spline(data, dots_per_second=10, ax=None):\n",
    "    s = AsdfSpline(data)\n",
    "    total_duration = s.grid[-1] - s.grid[0]\n",
    "    times = s.grid[0] + np.arange(int(total_duration * dots_per_second) + 1) / dots_per_second\n",
    "    evaluate = np.vectorize(s.evaluate, signature='()->(n)')\n",
    "    if ax is None:\n",
    "        ax = plt.gca(projection='3d')\n",
    "    ax.plot(*evaluate(times).T, '.')\n",
    "    ax.scatter(*evaluate(s.grid).T, marker='x', c='black')\n",
    "    set_axes_equal(ax)"
   ]
  },
  {
   "cell_type": "code",
   "execution_count": null,
   "metadata": {},
   "outputs": [],
   "source": [
    "data = [\n",
    "    {'position': (0, 0, 0)},\n",
    "    {'position': (3, 0, 0)},\n",
    "    {'position': (3, 1, 0)},\n",
    "    {'position': 'closed', 'time': 10},\n",
    "]\n",
    "plot_spline(data)"
   ]
  },
  {
   "cell_type": "code",
   "execution_count": null,
   "metadata": {},
   "outputs": [],
   "source": [
    "data = [\n",
    "    {'position': (0, 0, 0), 'tension': 0.5},\n",
    "    {'position': (3, 0, 0), 'tension': 0.5},\n",
    "    {'position': (3, 1, 0), 'tension': 0.5},\n",
    "    {'position': 'closed', 'time': 10},\n",
    "]\n",
    "plot_spline(data)"
   ]
  },
  {
   "cell_type": "code",
   "execution_count": null,
   "metadata": {},
   "outputs": [],
   "source": []
  }
 ],
 "metadata": {
  "kernelspec": {
   "display_name": "Python 3",
   "language": "python",
   "name": "python3"
  },
  "language_info": {
   "codemirror_mode": {
    "name": "ipython",
    "version": 3
   },
   "file_extension": ".py",
   "mimetype": "text/x-python",
   "name": "python",
   "nbconvert_exporter": "python",
   "pygments_lexer": "ipython3",
   "version": "3.7.3"
  }
 },
 "nbformat": 4,
 "nbformat_minor": 2
}
